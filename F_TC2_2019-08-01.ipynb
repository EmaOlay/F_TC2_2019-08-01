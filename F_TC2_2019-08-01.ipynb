{
 "cells": [
  {
   "cell_type": "markdown",
   "metadata": {},
   "source": [
    "# 1)\n",
    "## a) planteo MAI total son 4 nodos\n",
    "$$\\frac{V_{pq}}{V_{mn}}=(-1)^{p+q+m+n}*\\frac{\\begin{vmatrix}\n",
    "Y_{mn}^{pq}\n",
    "\\end{vmatrix}}{\\begin{vmatrix}\n",
    "Y_{mn}^{mn}\n",
    "\\end{vmatrix}}$$\n",
    "Para los determinantes tenemos que tachar las columnas p y q y las filas m y n.\n",
    "$$V_2\\equiv V_{34}$$\n",
    "$$V_1\\equiv V_{14}$$\n",
    "$$MAI=\\begin{bmatrix}\n",
    "\\frac{1}{R_0}+\\frac{1}{Z_A} & -\\frac{1}{R_0} & -\\frac{1}{Z_A} & 0\\\\\n",
    "-\\frac{1}{R_0} & \\frac{1}{R_0} + \\frac{1}{R_0}+\\frac{1}{Z_B} & -\\frac{1}{R_0} &-\\frac{1}{Z_B}\\\\\n",
    "-\\frac{1}{Z_A} & -\\frac{1}{R_0} & \\frac{1}{R_0}+\\frac{1}{R_0}+\\frac{1}{Z_A} & -\\frac{1}{R_0}\\\\\n",
    "0 & -\\frac{1}{Z_B} & -\\frac{1}{R_0} & \\frac{1}{Z_B}+\\frac{1}{R_0}\n",
    "\\end{bmatrix}$$"
   ]
  },
  {
   "cell_type": "code",
   "execution_count": 8,
   "metadata": {},
   "outputs": [
    {
     "name": "stdout",
     "output_type": "stream",
     "text": [
      "MAI=\n",
      "⎡1    1     -1       -1            ⎤\n",
      "⎢── + ──    ───      ───       0   ⎥\n",
      "⎢Za   Ro     Ro       Za           ⎥\n",
      "⎢                                  ⎥\n",
      "⎢  -1     1    2     -1       -1   ⎥\n",
      "⎢  ───    ── + ──    ───      ───  ⎥\n",
      "⎢   Ro    Zb   Ro     Ro       Zb  ⎥\n",
      "⎢                                  ⎥\n",
      "⎢  -1       -1     1    2     -1   ⎥\n",
      "⎢  ───      ───    ── + ──    ───  ⎥\n",
      "⎢   Za       Ro    Za   Ro     Ro  ⎥\n",
      "⎢                                  ⎥\n",
      "⎢           -1       -1     1    1 ⎥\n",
      "⎢   0       ───      ───    ── + ──⎥\n",
      "⎣            Zb       Ro    Zb   Ro⎦\n",
      "La matriz Y de arriba queda:\n",
      "⎡-1   1    2 ⎤\n",
      "⎢───  ── + ──⎥\n",
      "⎢ Ro  Zb   Ro⎥\n",
      "⎢            ⎥\n",
      "⎢-1     -1   ⎥\n",
      "⎢───    ───  ⎥\n",
      "⎣ Za     Ro  ⎦\n",
      "La matriz Y de abajo queda:\n",
      "⎡1    2     -1   ⎤\n",
      "⎢── + ──    ───  ⎥\n",
      "⎢Zb   Ro     Ro  ⎥\n",
      "⎢                ⎥\n",
      "⎢  -1     1    2 ⎥\n",
      "⎢  ───    ── + ──⎥\n",
      "⎣   Ro    Za   Ro⎦\n",
      "La T(S) queda:\n",
      "        2                        \n",
      "      Ro  + 2⋅Ro⋅Zb + Za⋅Zb      \n",
      "─────────────────────────────────\n",
      "  2                              \n",
      "Ro  + 2⋅Ro⋅Za + 2⋅Ro⋅Zb + 3⋅Za⋅Zb\n",
      "Si reemplazo Ro^2=Za*Zb\n",
      "       2⋅Ro⋅Zb + 2⋅Za⋅Zb       \n",
      "───────────────────────────────\n",
      "  2   2 ⎛  4       2       2  ⎞\n",
      "Za ⋅Zb ⋅⎜───── + ───── + ─────⎟\n",
      "        ⎝Za⋅Zb   Ro⋅Zb   Ro⋅Za⎠\n",
      "Le tiro simplify\n",
      "      Za⋅Zb⋅(Ro + Zb)       \n",
      "────────────────────────────\n",
      "Ro⋅(Ro⋅Za + Ro⋅Zb + 2⋅Za⋅Zb)\n"
     ]
    }
   ],
   "source": [
    "from scipy import signal\n",
    "from sympy import *\n",
    "import matplotlib.pyplot as plt\n",
    "import math as m\n",
    "from splane import pzmap, grpDelay, bodePlot\n",
    "import numpy as np\n",
    "\n",
    "Ro, Za, Zb, S= symbols('Ro Za Zb S')\n",
    "\n",
    "MAI_1= Matrix(([1/Ro +1/Za, -1/Ro, -1/Za, 0],\n",
    "             [-1/Ro, 1/Ro + 1/Ro +1/Zb,-1/Ro, -1/Zb],\n",
    "             [-1/Za, -1/Ro,1/Ro+1/Ro+1/Za,-1/Ro],\n",
    "             [0,-1/Zb,-1/Ro,1/Zb+1/Ro]))\n",
    "MAI_2= Matrix(([1/Ro +1/Za, -1/Ro, -1/Za, 0],\n",
    "             [-1/Ro, 1/Ro + 1/Ro +1/Zb,-1/Ro, -1/Zb],\n",
    "             [-1/Za, -1/Ro,1/Ro+1/Ro+1/Za,-1/Ro],\n",
    "             [0,-1/Zb,-1/Ro,1/Zb+1/Ro]))\n",
    "print(\"MAI=\")\n",
    "pprint(MAI_1)\n",
    "Y_arriba=MAI_1\n",
    "\n",
    "Y_arriba.col_del(3)\n",
    "Y_arriba.col_del(2)\n",
    "Y_arriba.row_del(3)\n",
    "Y_arriba.row_del(0)\n",
    "print(\"La matriz Y de arriba queda:\")\n",
    "pprint(Y_arriba)\n",
    "\n",
    "Y_abajo=MAI_2\n",
    "Y_abajo.col_del(3)\n",
    "Y_abajo.col_del(0)\n",
    "Y_abajo.row_del(3)\n",
    "Y_abajo.row_del(0)\n",
    "print(\"La matriz Y de abajo queda:\")\n",
    "pprint(Y_abajo)\n",
    "\n",
    "T_S=(-1)**(3+4+1+4) * Y_arriba.det()/Y_abajo.det()\n",
    "print(\"La T(S) queda:\")\n",
    "pprint(simplify(T_S))\n",
    "print(\"Si reemplazo Ro^2=Za*Zb\")\n",
    "pprint(T_S.subs(Ro**2,Za*Zb))\n",
    "print(\"Le tiro simplify\")\n",
    "pprint(simplify(T_S.subs(Za*Zb,Ro**2)))"
   ]
  },
  {
   "cell_type": "code",
   "execution_count": 13,
   "metadata": {},
   "outputs": [
    {
     "name": "stdout",
     "output_type": "stream",
     "text": [
      "Solucion #1\n",
      "\tZa: S + 1/S\n",
      "\tZb: S/(S**2 + 1)\n"
     ]
    }
   ],
   "source": [
    "####Determino variables#######\n",
    "\n",
    "#Za, Zb = symbols('Za Zb') ya estan declaradas arriba\n",
    "\n",
    "####Determino las ecuaciones simultaneas a resolver ####\n",
    "####Con condiciones de diseño#########\n",
    "ecuaciones = [\n",
    "    (((Za*Zb*(1 + Zb))/(Za+ Zb +2*Za*Zb) -S/(S**2 +S +1))),\n",
    "    (Za*Zb-1)\n",
    "    \n",
    "     ]\n",
    "\n",
    "####Resuelvo paraR1 R2 C2#######\n",
    "\n",
    "conjunto_sol=solve(ecuaciones, Za, Zb, set=True)\n",
    "\n",
    "###imprimo###\n",
    "Nombres=conjunto_sol[0]\n",
    "Soluciones=list(conjunto_sol[1])\n",
    "for k in range(len(Soluciones)):\n",
    "    \n",
    "    print('Solucion #%d' % (k+1))\n",
    "    for k2, nombre in enumerate(Nombres):\n",
    "        print('\\t%s: %s' % (nombre, Soluciones[k][k2]) )\n"
   ]
  },
  {
   "cell_type": "markdown",
   "metadata": {},
   "source": [
    "# b)\n",
    "<img src=\"./circuito 1-b.PNG\" align=\"center\" width=\"80%\" />"
   ]
  },
  {
   "cell_type": "markdown",
   "metadata": {},
   "source": [
    "# 2)\n",
    "$Z_{01}=50\\Omega; Z_{02}=300\\Omega$<br>\n",
    "$\\alpha= 0 nepers=0dB$<br>\n",
    "$\\beta=0.523598776 rad=30 grados$"
   ]
  },
  {
   "cell_type": "code",
   "execution_count": null,
   "metadata": {},
   "outputs": [],
   "source": []
  }
 ],
 "metadata": {
  "kernelspec": {
   "display_name": "Python 3",
   "language": "python",
   "name": "python3"
  },
  "language_info": {
   "codemirror_mode": {
    "name": "ipython",
    "version": 3
   },
   "file_extension": ".py",
   "mimetype": "text/x-python",
   "name": "python",
   "nbconvert_exporter": "python",
   "pygments_lexer": "ipython3",
   "version": "3.8.5"
  }
 },
 "nbformat": 4,
 "nbformat_minor": 4
}
